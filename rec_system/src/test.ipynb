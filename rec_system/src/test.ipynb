{
 "cells": [
  {
   "cell_type": "code",
   "execution_count": null,
   "outputs": [],
   "source": [
    "\n",
    "def parse_survey_answers_files():\n",
    "    df = pd.read_csv('./data/survey.csv')\n",
    "    df.dropna()\n",
    "    df = df.drop(\n",
    "        ['W skali od 1 do 10 jak bardzo lubisz słone jedzenie', 'W skali od 1 do 10 jak bardzo lubisz słodkie jedzenie',\n",
    "         'W skali od 1 do 10 jak bardzo lubisz gorzkie jedzenie', 'W skali od 1 do 10 jak bardzo lubisz mięso',\n",
    "         'W skali od 1 do 10 jak bardzo lubisz pikantne jedzenie',\n",
    "         'W skali od 1 do 10 jak bardzo lubisz kuchnie śródziemnomorską',\n",
    "         'W skali od 1 do 10 jak bardzo lubisz kuchnie azjatycką',\n",
    "         'W skali od 1 do 10 jak bardzo lubisz kuchnie amerykańską',\n",
    "         'W skali od 1 do 10 jak bardzo lubisz kuchnie arabską',\n",
    "         'W skali od 1 do 10 jak bardzo lubisz owoce morza(również ryby)',\n",
    "         'W skali od 1 do 10 jak bardzo lubisz tłuste jedzenie', 'W skali od 1 do 10 jak bardzo lubisz kuchnie Polską'\n",
    "         ],\n",
    "        axis=1)\n",
    "    columns = df.columns\n",
    "    df.T.insert(0, \"questions\", columns)\n",
    "    return df\n",
    "\n",
    "parse_survey_answers_files().head()\n"
   ],
   "metadata": {
    "collapsed": false,
    "pycharm": {
     "name": "#%%\n"
    }
   }
  },
  {
   "cell_type": "code",
   "execution_count": 1,
   "outputs": [],
   "source": [
    "import pandas as pd\n",
    "from src.utils import load_and_preprocess_data\n",
    "from recommender import Recommender\n",
    "from scipy import spatial"
   ],
   "metadata": {
    "collapsed": false,
    "pycharm": {
     "name": "#%%\n"
    }
   }
  },
  {
   "cell_type": "code",
   "execution_count": 2,
   "outputs": [],
   "source": [
    "data, email_order, dishes_order, sorted_users, sorted_dishes = load_and_preprocess_data()\n",
    "recommender = Recommender(\n",
    "        data['ocena'],\n",
    "        email_order,\n",
    "        dishes_order,\n",
    "    )"
   ],
   "metadata": {
    "collapsed": false,
    "pycharm": {
     "name": "#%%\n"
    }
   }
  },
  {
   "cell_type": "code",
   "execution_count": null,
   "outputs": [],
   "source": [
    "len(sorted_users)\n",
    "\n"
   ],
   "metadata": {
    "collapsed": false,
    "pycharm": {
     "name": "#%%\n"
    }
   }
  },
  {
   "cell_type": "code",
   "execution_count": 3,
   "outputs": [
    {
     "name": "stderr",
     "output_type": "stream",
     "text": [
      "F:\\uczelnia\\AI_DIET_GENERATOR\\rec_system\\venv\\lib\\site-packages\\implicit\\utils.py:138: ParameterWarning: Method expects CSR input, and was passed coo_matrix instead. Converting to CSR took 0.0 seconds\n",
      "  warnings.warn(\n"
     ]
    },
    {
     "data": {
      "text/plain": "  0%|          | 0/15 [00:00<?, ?it/s]",
      "application/vnd.jupyter.widget-view+json": {
       "version_major": 2,
       "version_minor": 0,
       "model_id": "9410419deb3a425db4548d4626744a92"
      }
     },
     "metadata": {},
     "output_type": "display_data"
    },
    {
     "data": {
      "text/plain": "<recommender.Recommender at 0x267c1201eb0>"
     },
     "execution_count": 3,
     "metadata": {},
     "output_type": "execute_result"
    }
   ],
   "source": [
    "recommender.create_and_fit(\n",
    "        # Fine-tuned values\n",
    "        model_params=dict(\n",
    "            factors=20,\n",
    "            alpha=0.6,\n",
    "            regularization=0.06,\n",
    "        ),\n",
    ")"
   ],
   "metadata": {
    "collapsed": false,
    "pycharm": {
     "name": "#%%\n"
    }
   }
  },
  {
   "cell_type": "code",
   "execution_count": 4,
   "outputs": [],
   "source": [
    "suggestions_and_score  = recommender.recommend_products(\n",
    "                20, 40\n",
    "            )\n",
    "\n",
    "\n",
    "# for i in range(len(suggestions_and_score[1])):\n",
    "#     print(suggestions_and_score[0][i], \"   \", suggestions_and_score[1][i])\n",
    "#     print(sorted_dishes[suggestions_and_score[0][i]])"
   ],
   "metadata": {
    "collapsed": false,
    "pycharm": {
     "name": "#%%\n"
    }
   }
  },
  {
   "cell_type": "code",
   "execution_count": 5,
   "outputs": [
    {
     "data": {
      "text/plain": "[(0.8276961252801738, 'Beef Wellington'),\n (0.8270715804662274, 'Vegan Colcannon Soup'),\n (0.826416979086038, 'X-Country Double Lobster Risotto'),\n (0.8255045512803283, 'Colcannon'),\n (0.8249217329670919, 'Slow Cooker Shanghai-Style Beef Borscht'),\n (0.8248401403603774, 'Austrian Goulash'),\n (0.8215499893426359, 'Spanish Tortilla'),\n (0.8208052386056948, 'Hungarian Beef Goulash'),\n (0.8203281048058185, 'Easy Weeknight Beef Stroganoff'),\n (0.8190835074709936, 'Sheet Pan Butternut Squash with Spicy Italian Sausage'),\n (0.818322138758193, 'Gnocchi and Wilted Spinach Salad'),\n (0.8181758430417793, 'Baked Chicken Caprese'),\n (0.8161270368569296,\n  'Spring Risotto with Shrimp, Asparagus and Artichoke Hearts'),\n (0.8138330212896766, 'Gluten-Free Lamb Moussaka'),\n (0.8068162279998052, 'Hungarian Potato Soup'),\n (0.8056793300738222, 'Sauteed Italian Eggplant Side Dish'),\n (0.7958477017765462, 'Pierogi Casserole'),\n (0.7926557231657605, 'Italian Seafood Stew'),\n (0.7691188553638618, 'Beef Stroganoff w Bella Mushrooms'),\n (0.7359157123299876,\n  'Prosciutto and Mushroom Ravioli With Basil Browned Butter Sauce'),\n (0.7178540664927433, 'Focaccia with Tomato, Green Onion and Garlic'),\n (0.6927608916666663, 'Light and Easy Alfredo'),\n (0.614110883647379, 'Skillingsbollar - Norwegian Cinnamon and Sugar Rolls'),\n (0.6131670367852688, 'Goat Cheese and Fig Crostini'),\n (0.604488937971152, 'Open Ravioli With Butternut Squash and Amaretti'),\n (0.6011185546768604, 'Vegan Beet Borscht'),\n (0.5990139761729327, 'Creamy Alfredo and Shrimp Pasta'),\n (0.5936001635848445, 'German White Chocolate Cake'),\n (0.5693918621327235, 'Crab Ravioli With Scallops and Gremolata'),\n (0.5685777148216571, 'Grilled Chicken Gyros With Tzatziki'),\n (0.5683639069233749, 'La Panzanella'),\n (0.5682021718248218, 'Panzanella Toscana'),\n (0.5676160703967696, 'Golden Beet Panzanella'),\n (0.5666570374055995, 'Borscht Soup'),\n (0.5617420815662777, 'Chicken Farfalle with Low-Fat Alfredo Sauce'),\n (0.5548168431512897, 'Niçoise Salad'),\n (0.5548119734889246, 'Pierogies with Caramelized Onion, Cabbage, and Potato'),\n (0.4440241528286427, 'Pear and Pesto Crostini'),\n (0.42589028954762886, 'Blackberry Creme Brulee'),\n (0.389493641001351, 'Pumpkin Banana Protein Oat Bars')]"
     },
     "execution_count": 5,
     "metadata": {},
     "output_type": "execute_result"
    }
   ],
   "source": [
    "def compare_taste_with_taste_profile(dish_name_list, user_email, user_profiles_df: pd.DataFrame = None,\n",
    "                                     user_profiles_path: str = './data/user_profiles.csv',\n",
    "                                     recipes_df: pd.DataFrame = None, recipes_path: str = './data/recipes.csv'):\n",
    "    if not user_profiles_df:\n",
    "        user_profiles_df = pd.read_csv(user_profiles_path)\n",
    "    user_profile = (user_profiles_df.loc[user_profiles_df['email'] == user_email][\n",
    "                        [\"saltiness\", \"bitterness\", 'spiciness', 'fattiness']].values * 10)[0]\n",
    "    if not recipes_df:\n",
    "        recipes_df = pd.read_csv(recipes_path)\n",
    "    cosine_similarity_list = list()\n",
    "    for dish_name in dish_name_list:\n",
    "        dish = \\\n",
    "            recipes_df.loc[recipes_df['title'] == dish_name][\n",
    "                [\"saltiness\", \"bitterness\", 'spiciness', 'fattiness']].values[\n",
    "                0]\n",
    "        cosine_similarity_list.append((1 - spatial.distance.cosine(user_profile, dish), dish_name))\n",
    "    cosine_similarity_list.sort(key=lambda x: x[0], reverse=True)\n",
    "    return cosine_similarity_list\n",
    "\n",
    "\n",
    "compare_taste_with_taste_profile([sorted_dishes[i] for i in suggestions_and_score[0].tolist()], sorted_users[20])\n"
   ],
   "metadata": {
    "collapsed": false,
    "pycharm": {
     "name": "#%%\n"
    }
   }
  },
  {
   "cell_type": "code",
   "execution_count": null,
   "outputs": [],
   "source": [
    "from data.survey import update_survey_answers_file\n",
    "update_survey_answers_file()\n"
   ],
   "metadata": {
    "collapsed": false,
    "pycharm": {
     "name": "#%%\n"
    }
   }
  },
  {
   "cell_type": "code",
   "execution_count": null,
   "outputs": [],
   "source": [
    "from data.survey import convert_to_implicit_dataset\n",
    "convert_to_implicit_dataset().to_csv('./data/ratings.csv')"
   ],
   "metadata": {
    "collapsed": false,
    "pycharm": {
     "name": "#%%\n"
    }
   }
  },
  {
   "cell_type": "code",
   "execution_count": null,
   "outputs": [],
   "source": [
    "from data.recipes import get_all_recipes\n",
    "test = get_all_recipes('f1a65dd7832647d18888c171f92ed1b7')"
   ],
   "metadata": {
    "collapsed": false,
    "pycharm": {
     "name": "#%%\n"
    }
   }
  },
  {
   "cell_type": "code",
   "execution_count": null,
   "outputs": [],
   "source": [],
   "metadata": {
    "collapsed": false,
    "pycharm": {
     "name": "#%%\n"
    }
   }
  }
 ],
 "metadata": {
  "kernelspec": {
   "display_name": "Python 3",
   "language": "python",
   "name": "python3"
  },
  "language_info": {
   "codemirror_mode": {
    "name": "ipython",
    "version": 2
   },
   "file_extension": ".py",
   "mimetype": "text/x-python",
   "name": "python",
   "nbconvert_exporter": "python",
   "pygments_lexer": "ipython2",
   "version": "2.7.6"
  }
 },
 "nbformat": 4,
 "nbformat_minor": 0
}